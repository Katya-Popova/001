{
  "nbformat": 4,
  "nbformat_minor": 0,
  "metadata": {
    "colab": {
      "provenance": [],
      "authorship_tag": "ABX9TyO9RuvQdpnOqDJkbbQXdM2U",
      "include_colab_link": true
    },
    "kernelspec": {
      "name": "python3",
      "display_name": "Python 3"
    },
    "language_info": {
      "name": "python"
    }
  },
  "cells": [
    {
      "cell_type": "markdown",
      "metadata": {
        "id": "view-in-github",
        "colab_type": "text"
      },
      "source": [
        "<a href=\"https://colab.research.google.com/github/Katya-Popova/001/blob/main/Untitled0.ipynb\" target=\"_parent\"><img src=\"https://colab.research.google.com/assets/colab-badge.svg\" alt=\"Open In Colab\"/></a>"
      ]
    },
    {
      "cell_type": "markdown",
      "source": [
        "Домашняя работа Diamonds"
      ],
      "metadata": {
        "id": "hIlt8plFcpu1"
      }
    },
    {
      "cell_type": "markdown",
      "source": [
        "carat    - вес бриллианта (0,2--5,01)\n",
        "\n",
        "cut       - качество реза (удовлетворительное, хорошее, очень хорошее, премиум, идеальное)      \n",
        "\n",
        "color    -  бриллиантовый цвет, от J (худший) до D (лучший)\n",
        "\n",
        "clarity   -  измерение чистоты алмаза (I1 (худший), SI2, SI1, VS2, VS1, VVS2, VVS1, IF (лучший))\n",
        "\n",
        "depth   - общий процент глубины = z / среднее (x, y) = 2 * z / (x + y) (43--79)\n",
        "\n",
        "table  - ширина вершины алмаза относительно самой широкой точки (43--95)\n",
        "\n",
        "price -  цена\n",
        "\n",
        "x     -  длина\n",
        "\n",
        "y    - ширина\n",
        "\n",
        "z    -  глубина   "
      ],
      "metadata": {
        "id": "2asgjNUbDxVz"
      }
    },
    {
      "cell_type": "code",
      "execution_count": 4,
      "metadata": {
        "colab": {
          "base_uri": "https://localhost:8080/"
        },
        "id": "eUfj1ofqcd81",
        "outputId": "2997ae69-376e-49cb-fcd0-570234439440"
      },
      "outputs": [
        {
          "output_type": "stream",
          "name": "stdout",
          "text": [
            "       carat        cut color clarity  depth  table  price     x     y     z\n",
            "0       0.23      Ideal     E     SI2   61.5   55.0    326  3.95  3.98  2.43\n",
            "1       0.21    Premium     E     SI1   59.8   61.0    326  3.89  3.84  2.31\n",
            "2       0.23       Good     E     VS1   56.9   65.0    327  4.05  4.07  2.31\n",
            "3       0.29    Premium     I     VS2   62.4   58.0    334  4.20  4.23  2.63\n",
            "4       0.31       Good     J     SI2   63.3   58.0    335  4.34  4.35  2.75\n",
            "...      ...        ...   ...     ...    ...    ...    ...   ...   ...   ...\n",
            "53935   0.72      Ideal     D     SI1   60.8   57.0   2757  5.75  5.76  3.50\n",
            "53936   0.72       Good     D     SI1   63.1   55.0   2757  5.69  5.75  3.61\n",
            "53937   0.70  Very Good     D     SI1   62.8   60.0   2757  5.66  5.68  3.56\n",
            "53938   0.86    Premium     H     SI2   61.0   58.0   2757  6.15  6.12  3.74\n",
            "53939   0.75      Ideal     D     SI2   62.2   55.0   2757  5.83  5.87  3.64\n",
            "\n",
            "[53940 rows x 10 columns]\n"
          ]
        }
      ],
      "source": [
        "import pandas as pd\n",
        "d = pd.read_csv('https://raw.githubusercontent.com/mwaskom/seaborn-data/master/diamonds.csv')\n",
        "print(d)"
      ]
    },
    {
      "cell_type": "code",
      "source": [],
      "metadata": {
        "id": "cwjIjO5Xck9h"
      },
      "execution_count": null,
      "outputs": []
    },
    {
      "cell_type": "markdown",
      "source": [
        "1) Напишите программу Pandas для чтения CSV-файла из указанного источника и печати первых 5 строк."
      ],
      "metadata": {
        "id": "c-NAVHFecn3l"
      }
    },
    {
      "cell_type": "code",
      "source": [
        "d.head()"
      ],
      "metadata": {
        "colab": {
          "base_uri": "https://localhost:8080/",
          "height": 206
        },
        "id": "Nq6Kr6xTdLRI",
        "outputId": "d416b3d6-627b-49df-bd7b-1d8a8b4a7f38"
      },
      "execution_count": null,
      "outputs": [
        {
          "output_type": "execute_result",
          "data": {
            "text/plain": [
              "   carat      cut color clarity  depth  table  price     x     y     z\n",
              "0   0.23    Ideal     E     SI2   61.5   55.0    326  3.95  3.98  2.43\n",
              "1   0.21  Premium     E     SI1   59.8   61.0    326  3.89  3.84  2.31\n",
              "2   0.23     Good     E     VS1   56.9   65.0    327  4.05  4.07  2.31\n",
              "3   0.29  Premium     I     VS2   62.4   58.0    334  4.20  4.23  2.63\n",
              "4   0.31     Good     J     SI2   63.3   58.0    335  4.34  4.35  2.75"
            ],
            "text/html": [
              "\n",
              "  <div id=\"df-7fb77e45-0e1c-4a3c-b75f-85af789eadca\">\n",
              "    <div class=\"colab-df-container\">\n",
              "      <div>\n",
              "<style scoped>\n",
              "    .dataframe tbody tr th:only-of-type {\n",
              "        vertical-align: middle;\n",
              "    }\n",
              "\n",
              "    .dataframe tbody tr th {\n",
              "        vertical-align: top;\n",
              "    }\n",
              "\n",
              "    .dataframe thead th {\n",
              "        text-align: right;\n",
              "    }\n",
              "</style>\n",
              "<table border=\"1\" class=\"dataframe\">\n",
              "  <thead>\n",
              "    <tr style=\"text-align: right;\">\n",
              "      <th></th>\n",
              "      <th>carat</th>\n",
              "      <th>cut</th>\n",
              "      <th>color</th>\n",
              "      <th>clarity</th>\n",
              "      <th>depth</th>\n",
              "      <th>table</th>\n",
              "      <th>price</th>\n",
              "      <th>x</th>\n",
              "      <th>y</th>\n",
              "      <th>z</th>\n",
              "    </tr>\n",
              "  </thead>\n",
              "  <tbody>\n",
              "    <tr>\n",
              "      <th>0</th>\n",
              "      <td>0.23</td>\n",
              "      <td>Ideal</td>\n",
              "      <td>E</td>\n",
              "      <td>SI2</td>\n",
              "      <td>61.5</td>\n",
              "      <td>55.0</td>\n",
              "      <td>326</td>\n",
              "      <td>3.95</td>\n",
              "      <td>3.98</td>\n",
              "      <td>2.43</td>\n",
              "    </tr>\n",
              "    <tr>\n",
              "      <th>1</th>\n",
              "      <td>0.21</td>\n",
              "      <td>Premium</td>\n",
              "      <td>E</td>\n",
              "      <td>SI1</td>\n",
              "      <td>59.8</td>\n",
              "      <td>61.0</td>\n",
              "      <td>326</td>\n",
              "      <td>3.89</td>\n",
              "      <td>3.84</td>\n",
              "      <td>2.31</td>\n",
              "    </tr>\n",
              "    <tr>\n",
              "      <th>2</th>\n",
              "      <td>0.23</td>\n",
              "      <td>Good</td>\n",
              "      <td>E</td>\n",
              "      <td>VS1</td>\n",
              "      <td>56.9</td>\n",
              "      <td>65.0</td>\n",
              "      <td>327</td>\n",
              "      <td>4.05</td>\n",
              "      <td>4.07</td>\n",
              "      <td>2.31</td>\n",
              "    </tr>\n",
              "    <tr>\n",
              "      <th>3</th>\n",
              "      <td>0.29</td>\n",
              "      <td>Premium</td>\n",
              "      <td>I</td>\n",
              "      <td>VS2</td>\n",
              "      <td>62.4</td>\n",
              "      <td>58.0</td>\n",
              "      <td>334</td>\n",
              "      <td>4.20</td>\n",
              "      <td>4.23</td>\n",
              "      <td>2.63</td>\n",
              "    </tr>\n",
              "    <tr>\n",
              "      <th>4</th>\n",
              "      <td>0.31</td>\n",
              "      <td>Good</td>\n",
              "      <td>J</td>\n",
              "      <td>SI2</td>\n",
              "      <td>63.3</td>\n",
              "      <td>58.0</td>\n",
              "      <td>335</td>\n",
              "      <td>4.34</td>\n",
              "      <td>4.35</td>\n",
              "      <td>2.75</td>\n",
              "    </tr>\n",
              "  </tbody>\n",
              "</table>\n",
              "</div>\n",
              "      <button class=\"colab-df-convert\" onclick=\"convertToInteractive('df-7fb77e45-0e1c-4a3c-b75f-85af789eadca')\"\n",
              "              title=\"Convert this dataframe to an interactive table.\"\n",
              "              style=\"display:none;\">\n",
              "        \n",
              "  <svg xmlns=\"http://www.w3.org/2000/svg\" height=\"24px\"viewBox=\"0 0 24 24\"\n",
              "       width=\"24px\">\n",
              "    <path d=\"M0 0h24v24H0V0z\" fill=\"none\"/>\n",
              "    <path d=\"M18.56 5.44l.94 2.06.94-2.06 2.06-.94-2.06-.94-.94-2.06-.94 2.06-2.06.94zm-11 1L8.5 8.5l.94-2.06 2.06-.94-2.06-.94L8.5 2.5l-.94 2.06-2.06.94zm10 10l.94 2.06.94-2.06 2.06-.94-2.06-.94-.94-2.06-.94 2.06-2.06.94z\"/><path d=\"M17.41 7.96l-1.37-1.37c-.4-.4-.92-.59-1.43-.59-.52 0-1.04.2-1.43.59L10.3 9.45l-7.72 7.72c-.78.78-.78 2.05 0 2.83L4 21.41c.39.39.9.59 1.41.59.51 0 1.02-.2 1.41-.59l7.78-7.78 2.81-2.81c.8-.78.8-2.07 0-2.86zM5.41 20L4 18.59l7.72-7.72 1.47 1.35L5.41 20z\"/>\n",
              "  </svg>\n",
              "      </button>\n",
              "      \n",
              "  <style>\n",
              "    .colab-df-container {\n",
              "      display:flex;\n",
              "      flex-wrap:wrap;\n",
              "      gap: 12px;\n",
              "    }\n",
              "\n",
              "    .colab-df-convert {\n",
              "      background-color: #E8F0FE;\n",
              "      border: none;\n",
              "      border-radius: 50%;\n",
              "      cursor: pointer;\n",
              "      display: none;\n",
              "      fill: #1967D2;\n",
              "      height: 32px;\n",
              "      padding: 0 0 0 0;\n",
              "      width: 32px;\n",
              "    }\n",
              "\n",
              "    .colab-df-convert:hover {\n",
              "      background-color: #E2EBFA;\n",
              "      box-shadow: 0px 1px 2px rgba(60, 64, 67, 0.3), 0px 1px 3px 1px rgba(60, 64, 67, 0.15);\n",
              "      fill: #174EA6;\n",
              "    }\n",
              "\n",
              "    [theme=dark] .colab-df-convert {\n",
              "      background-color: #3B4455;\n",
              "      fill: #D2E3FC;\n",
              "    }\n",
              "\n",
              "    [theme=dark] .colab-df-convert:hover {\n",
              "      background-color: #434B5C;\n",
              "      box-shadow: 0px 1px 3px 1px rgba(0, 0, 0, 0.15);\n",
              "      filter: drop-shadow(0px 1px 2px rgba(0, 0, 0, 0.3));\n",
              "      fill: #FFFFFF;\n",
              "    }\n",
              "  </style>\n",
              "\n",
              "      <script>\n",
              "        const buttonEl =\n",
              "          document.querySelector('#df-7fb77e45-0e1c-4a3c-b75f-85af789eadca button.colab-df-convert');\n",
              "        buttonEl.style.display =\n",
              "          google.colab.kernel.accessAllowed ? 'block' : 'none';\n",
              "\n",
              "        async function convertToInteractive(key) {\n",
              "          const element = document.querySelector('#df-7fb77e45-0e1c-4a3c-b75f-85af789eadca');\n",
              "          const dataTable =\n",
              "            await google.colab.kernel.invokeFunction('convertToInteractive',\n",
              "                                                     [key], {});\n",
              "          if (!dataTable) return;\n",
              "\n",
              "          const docLinkHtml = 'Like what you see? Visit the ' +\n",
              "            '<a target=\"_blank\" href=https://colab.research.google.com/notebooks/data_table.ipynb>data table notebook</a>'\n",
              "            + ' to learn more about interactive tables.';\n",
              "          element.innerHTML = '';\n",
              "          dataTable['output_type'] = 'display_data';\n",
              "          await google.colab.output.renderOutput(dataTable, element);\n",
              "          const docLink = document.createElement('div');\n",
              "          docLink.innerHTML = docLinkHtml;\n",
              "          element.appendChild(docLink);\n",
              "        }\n",
              "      </script>\n",
              "    </div>\n",
              "  </div>\n",
              "  "
            ]
          },
          "metadata": {},
          "execution_count": 4
        }
      ]
    },
    {
      "cell_type": "markdown",
      "source": [
        "2) Напишите программу Pandas для чтения набора данных из бриллианта DataFrame, изменения значений столбцов по умолчанию и печати первых 6 строк."
      ],
      "metadata": {
        "id": "VNU5Lk6Zc1yk"
      }
    },
    {
      "cell_type": "code",
      "source": [
        "print(d[['carat', 'cut', 'x', 'y', 'z']].head(6))"
      ],
      "metadata": {
        "id": "S5Xr-eaLdJ79",
        "colab": {
          "base_uri": "https://localhost:8080/"
        },
        "outputId": "e82aa651-30f9-4a84-d481-a8394ab989eb"
      },
      "execution_count": 5,
      "outputs": [
        {
          "output_type": "stream",
          "name": "stdout",
          "text": [
            "   carat        cut     x     y     z\n",
            "0   0.23      Ideal  3.95  3.98  2.43\n",
            "1   0.21    Premium  3.89  3.84  2.31\n",
            "2   0.23       Good  4.05  4.07  2.31\n",
            "3   0.29    Premium  4.20  4.23  2.63\n",
            "4   0.31       Good  4.34  4.35  2.75\n",
            "5   0.24  Very Good  3.94  3.96  2.48\n"
          ]
        }
      ]
    },
    {
      "cell_type": "markdown",
      "source": [
        "3) Напишите программу Pandas, чтобы выбрать серию из бриллиантов DataFrame. Распечатайте содержание серии."
      ],
      "metadata": {
        "id": "oskoScW1f6Qs"
      }
    },
    {
      "cell_type": "code",
      "source": [
        "print(d['carat'])"
      ],
      "metadata": {
        "id": "Ujs-KRmef__S",
        "colab": {
          "base_uri": "https://localhost:8080/"
        },
        "outputId": "0cdc9f09-ac72-48ed-abb5-a0858ff7221f"
      },
      "execution_count": 6,
      "outputs": [
        {
          "output_type": "stream",
          "name": "stdout",
          "text": [
            "0        0.23\n",
            "1        0.21\n",
            "2        0.23\n",
            "3        0.29\n",
            "4        0.31\n",
            "         ... \n",
            "53935    0.72\n",
            "53936    0.72\n",
            "53937    0.70\n",
            "53938    0.86\n",
            "53939    0.75\n",
            "Name: carat, Length: 53940, dtype: float64\n"
          ]
        }
      ]
    },
    {
      "cell_type": "markdown",
      "source": [
        "4) Напишите программу Pandas для создания новой серии «Качество? Цвет» (используйте обозначение в скобках для определения имени серии) бриллианта DataFrame"
      ],
      "metadata": {
        "id": "2DPLCG9vgA6-"
      }
    },
    {
      "cell_type": "code",
      "source": [
        "d = pd.read_csv('https://raw.githubusercontent.com/mwaskom/seaborn-data/master/diamonds.csv')\n",
        "d1=d\n",
        "d1['Quality–color'] = d.cut + ' ' + d.color\n",
        "print(d1.head())"
      ],
      "metadata": {
        "id": "Jzv19SLJgHh9",
        "colab": {
          "base_uri": "https://localhost:8080/"
        },
        "outputId": "94a2fb42-411b-456e-e1f8-e233c726d1c9"
      },
      "execution_count": 7,
      "outputs": [
        {
          "output_type": "stream",
          "name": "stdout",
          "text": [
            "   carat      cut color clarity  depth  table  price     x     y     z  \\\n",
            "0   0.23    Ideal     E     SI2   61.5   55.0    326  3.95  3.98  2.43   \n",
            "1   0.21  Premium     E     SI1   59.8   61.0    326  3.89  3.84  2.31   \n",
            "2   0.23     Good     E     VS1   56.9   65.0    327  4.05  4.07  2.31   \n",
            "3   0.29  Premium     I     VS2   62.4   58.0    334  4.20  4.23  2.63   \n",
            "4   0.31     Good     J     SI2   63.3   58.0    335  4.34  4.35  2.75   \n",
            "\n",
            "  Quality–color  \n",
            "0       Ideal E  \n",
            "1     Premium E  \n",
            "2        Good E  \n",
            "3     Premium I  \n",
            "4        Good J  \n"
          ]
        }
      ]
    },
    {
      "cell_type": "markdown",
      "source": [
        "5) Напишите программу Pandas, чтобы найти количество строк и столбцов и тип данных для каждого столбца алмазов."
      ],
      "metadata": {
        "id": "Q0mtKBqzgIDz"
      }
    },
    {
      "cell_type": "code",
      "source": [
        "print(d.shape)\n",
        "print(d.dtypes)"
      ],
      "metadata": {
        "colab": {
          "base_uri": "https://localhost:8080/"
        },
        "id": "3x-BLOPjgOvC",
        "outputId": "370ea4e1-2fa4-4a7b-b5fb-48ba8e587085"
      },
      "execution_count": 8,
      "outputs": [
        {
          "output_type": "stream",
          "name": "stdout",
          "text": [
            "(53940, 11)\n",
            "carat            float64\n",
            "cut               object\n",
            "color             object\n",
            "clarity           object\n",
            "depth            float64\n",
            "table            float64\n",
            "price              int64\n",
            "x                float64\n",
            "y                float64\n",
            "z                float64\n",
            "Quality–color     object\n",
            "dtype: object\n"
          ]
        }
      ]
    },
    {
      "cell_type": "markdown",
      "source": [
        "6)Напишите программу Pandas для суммирования только столбцов «объект» в бриллианте Dataframe"
      ],
      "metadata": {
        "id": "I2QxXBN_gPL0"
      }
    },
    {
      "cell_type": "code",
      "source": [
        "print(d.describe(include=['object']))\n"
      ],
      "metadata": {
        "id": "q0cvW4TzgSw7",
        "colab": {
          "base_uri": "https://localhost:8080/"
        },
        "outputId": "ec05b214-0019-458f-d2c6-e9e95d4c9fc6"
      },
      "execution_count": null,
      "outputs": [
        {
          "output_type": "stream",
          "name": "stdout",
          "text": [
            "          cut  color clarity Quality–color\n",
            "count   53940  53940   53940         53940\n",
            "unique      5      7       8            35\n",
            "top     Ideal      G     SI1       Ideal G\n",
            "freq    21551  11292   13065          4884\n"
          ]
        }
      ]
    },
    {
      "cell_type": "markdown",
      "source": [
        "7) Напишите программу Pandas для переименования двух столбцов бриллианта в Dataframe."
      ],
      "metadata": {
        "id": "RTds1l-igS_x"
      }
    },
    {
      "cell_type": "code",
      "source": [
        "di= pd.read_csv('https://raw.githubusercontent.com/mwaskom/seaborn-data/master/diamonds.csv')\n",
        "di.rename(columns={'carat':'diamond_size', 'cut':'trait'}, inplace=True)\n",
        "print(di.head())"
      ],
      "metadata": {
        "id": "v8E4G24ogkGz",
        "colab": {
          "base_uri": "https://localhost:8080/"
        },
        "outputId": "47d419c3-23b8-4539-f36d-99866d0ef927"
      },
      "execution_count": 9,
      "outputs": [
        {
          "output_type": "stream",
          "name": "stdout",
          "text": [
            "   diamond_size    trait color clarity  depth  table  price     x     y     z\n",
            "0          0.23    Ideal     E     SI2   61.5   55.0    326  3.95  3.98  2.43\n",
            "1          0.21  Premium     E     SI1   59.8   61.0    326  3.89  3.84  2.31\n",
            "2          0.23     Good     E     VS1   56.9   65.0    327  4.05  4.07  2.31\n",
            "3          0.29  Premium     I     VS2   62.4   58.0    334  4.20  4.23  2.63\n",
            "4          0.31     Good     J     SI2   63.3   58.0    335  4.34  4.35  2.75\n"
          ]
        }
      ]
    },
    {
      "cell_type": "markdown",
      "source": [
        "8)Напишите программу Pandas, чтобы переименовать все столбцы бриллианта в Dataframe."
      ],
      "metadata": {
        "id": "6wTGo5i1gkd8"
      }
    },
    {
      "cell_type": "code",
      "source": [
        "di= pd.read_csv('https://raw.githubusercontent.com/mwaskom/seaborn-data/master/diamonds.csv')\n",
        "di.rename(columns={'carat':'diamond_carat', 'cut':'diamond_cut','color':'diamond_color','clarity':'diamond_clarity','depth':'diamond_depth','table':'diamond_table',\n",
        "                   'price':'diamond_price','x':'diamond_x','y':'diamond_y','z':'diamond_z'}, inplace=True)\n",
        "print(di.head())"
      ],
      "metadata": {
        "colab": {
          "base_uri": "https://localhost:8080/"
        },
        "outputId": "2b32ca14-5f76-4593-a098-dfaa4d6c92cb",
        "id": "hv-1TDty86fa"
      },
      "execution_count": 10,
      "outputs": [
        {
          "output_type": "stream",
          "name": "stdout",
          "text": [
            "   diamond_carat diamond_cut diamond_color diamond_clarity  diamond_depth  \\\n",
            "0           0.23       Ideal             E             SI2           61.5   \n",
            "1           0.21     Premium             E             SI1           59.8   \n",
            "2           0.23        Good             E             VS1           56.9   \n",
            "3           0.29     Premium             I             VS2           62.4   \n",
            "4           0.31        Good             J             SI2           63.3   \n",
            "\n",
            "   diamond_table  diamond_price  diamond_x  diamond_y  diamond_z  \n",
            "0           55.0            326       3.95       3.98       2.43  \n",
            "1           61.0            326       3.89       3.84       2.31  \n",
            "2           65.0            327       4.05       4.07       2.31  \n",
            "3           58.0            334       4.20       4.23       2.63  \n",
            "4           58.0            335       4.34       4.35       2.75  \n"
          ]
        }
      ]
    },
    {
      "cell_type": "markdown",
      "source": [
        "9)Напишите программу Pandas для удаления второго столбца алмаза Datafram"
      ],
      "metadata": {
        "id": "OfZxNtXmgoTw"
      }
    },
    {
      "cell_type": "code",
      "source": [
        "di = pd.read_csv('https://raw.githubusercontent.com/mwaskom/seaborn-data/master/diamonds.csv') \n",
        "di.drop('cut', axis=1, inplace=True)\n",
        "print(di.head())"
      ],
      "metadata": {
        "id": "0zHcdyBKgsV-",
        "colab": {
          "base_uri": "https://localhost:8080/"
        },
        "outputId": "1d37d435-ab77-4bea-c070-b7e275a9c5dc"
      },
      "execution_count": null,
      "outputs": [
        {
          "output_type": "stream",
          "name": "stdout",
          "text": [
            "   carat color clarity  depth  table  price     x     y     z\n",
            "0   0.23     E     SI2   61.5   55.0    326  3.95  3.98  2.43\n",
            "1   0.21     E     SI1   59.8   61.0    326  3.89  3.84  2.31\n",
            "2   0.23     E     VS1   56.9   65.0    327  4.05  4.07  2.31\n",
            "3   0.29     I     VS2   62.4   58.0    334  4.20  4.23  2.63\n",
            "4   0.31     J     SI2   63.3   58.0    335  4.34  4.35  2.75\n"
          ]
        }
      ]
    },
    {
      "cell_type": "markdown",
      "source": [
        "10) Напишите программу Pandas для одновременного удаления нескольких столбцов из блока данных."
      ],
      "metadata": {
        "id": "1kcpmafdgsjb"
      }
    },
    {
      "cell_type": "code",
      "source": [
        "di = pd.read_csv('https://raw.githubusercontent.com/mwaskom/seaborn-data/master/diamonds.csv') \n",
        "di.drop(['x','y','z'], axis=1, inplace=True)\n",
        "print(di.head())"
      ],
      "metadata": {
        "id": "bolhFvr9gxu8",
        "colab": {
          "base_uri": "https://localhost:8080/"
        },
        "outputId": "9c492621-1f82-4b1e-c39d-7fa6ca7113a6"
      },
      "execution_count": 11,
      "outputs": [
        {
          "output_type": "stream",
          "name": "stdout",
          "text": [
            "   carat      cut color clarity  depth  table  price\n",
            "0   0.23    Ideal     E     SI2   61.5   55.0    326\n",
            "1   0.21  Premium     E     SI1   59.8   61.0    326\n",
            "2   0.23     Good     E     VS1   56.9   65.0    327\n",
            "3   0.29  Premium     I     VS2   62.4   58.0    334\n",
            "4   0.31     Good     J     SI2   63.3   58.0    335\n"
          ]
        }
      ]
    },
    {
      "cell_type": "markdown",
      "source": [
        "11) Напишите программу Pandas для одновременного удаления нескольких строк (ось = 0 относится к строкам) из фрейма данных diamonds. \n",
        "\n"
      ],
      "metadata": {
        "id": "VjdGOxizgyhl"
      }
    },
    {
      "cell_type": "code",
      "source": [
        "di.drop([0, 2, 4], axis=0, inplace=True)\n",
        "print(di.head())"
      ],
      "metadata": {
        "id": "5cNvfgs2g734",
        "colab": {
          "base_uri": "https://localhost:8080/"
        },
        "outputId": "d81b8bc3-71e6-4401-afa6-b26ccfcdfbba"
      },
      "execution_count": 12,
      "outputs": [
        {
          "output_type": "stream",
          "name": "stdout",
          "text": [
            "   carat        cut color clarity  depth  table  price\n",
            "1   0.21    Premium     E     SI1   59.8   61.0    326\n",
            "3   0.29    Premium     I     VS2   62.4   58.0    334\n",
            "5   0.24  Very Good     J    VVS2   62.8   57.0    336\n",
            "6   0.24  Very Good     I    VVS1   62.3   57.0    336\n",
            "7   0.26  Very Good     H     SI1   61.9   55.0    337\n"
          ]
        }
      ]
    },
    {
      "cell_type": "markdown",
      "source": [
        "12. Напишите программу Pandas для сортировки «отрезанной» серии в порядке возрастания (возвращает серию) алмазов в Dataframe. "
      ],
      "metadata": {
        "id": "s6rNUxm9hBdq"
      }
    },
    {
      "cell_type": "code",
      "source": [
        "print(di.cut.sort_values(ascending=True))"
      ],
      "metadata": {
        "id": "GLdb9Z2DhCxO",
        "colab": {
          "base_uri": "https://localhost:8080/"
        },
        "outputId": "197e663b-a08a-4467-e635-aa5abf0d116d"
      },
      "execution_count": 13,
      "outputs": [
        {
          "output_type": "stream",
          "name": "stdout",
          "text": [
            "2583          Fair\n",
            "8200          Fair\n",
            "47802         Fair\n",
            "51026         Fair\n",
            "8197          Fair\n",
            "           ...    \n",
            "7403     Very Good\n",
            "43101    Very Good\n",
            "7402     Very Good\n",
            "16898    Very Good\n",
            "21164    Very Good\n",
            "Name: cut, Length: 53937, dtype: object\n"
          ]
        }
      ]
    },
    {
      "cell_type": "markdown",
      "source": [
        "13. Напишите программу Pandas для сортировки Серии цен в порядке убывания (возвращает Серии) бриллиантов Датафрейм"
      ],
      "metadata": {
        "id": "uplsD9eghC-O"
      }
    },
    {
      "cell_type": "code",
      "source": [
        "print(di.price.sort_values(ascending=False))"
      ],
      "metadata": {
        "id": "7RnpuVTXhJ2C",
        "colab": {
          "base_uri": "https://localhost:8080/"
        },
        "outputId": "f215b6a1-a15b-4df8-e3c3-92af73c8129a"
      },
      "execution_count": 14,
      "outputs": [
        {
          "output_type": "stream",
          "name": "stdout",
          "text": [
            "27749    18823\n",
            "27748    18818\n",
            "27747    18806\n",
            "27746    18804\n",
            "27745    18803\n",
            "         ...  \n",
            "7          337\n",
            "5          336\n",
            "6          336\n",
            "3          334\n",
            "1          326\n",
            "Name: price, Length: 53937, dtype: int64\n"
          ]
        }
      ]
    },
    {
      "cell_type": "markdown",
      "source": [
        "14. Напишите программу Pandas, чтобы отсортировать весь DataFrame бриллиантов по серии «Карат» в порядке возрастания и убывания"
      ],
      "metadata": {
        "id": "O1DwMlophKCE"
      }
    },
    {
      "cell_type": "code",
      "source": [
        "print(di.carat.sort_values(ascending=True))\n",
        "print(di.carat.sort_values(ascending=False))"
      ],
      "metadata": {
        "id": "KmwmFSgFhPNk",
        "colab": {
          "base_uri": "https://localhost:8080/"
        },
        "outputId": "5a48342b-49af-4cce-960c-6479ddff7969"
      },
      "execution_count": 15,
      "outputs": [
        {
          "output_type": "stream",
          "name": "stdout",
          "text": [
            "31594    0.20\n",
            "31593    0.20\n",
            "31595    0.20\n",
            "31596    0.20\n",
            "31597    0.20\n",
            "         ... \n",
            "25998    4.01\n",
            "25999    4.01\n",
            "27130    4.13\n",
            "27630    4.50\n",
            "27415    5.01\n",
            "Name: carat, Length: 53937, dtype: float64\n",
            "27415    5.01\n",
            "27630    4.50\n",
            "27130    4.13\n",
            "25999    4.01\n",
            "25998    4.01\n",
            "         ... \n",
            "31594    0.20\n",
            "31593    0.20\n",
            "31592    0.20\n",
            "31591    0.20\n",
            "31599    0.20\n",
            "Name: carat, Length: 53937, dtype: float64\n"
          ]
        }
      ]
    },
    {
      "cell_type": "markdown",
      "source": [
        "15. Напишите программу Pandas, чтобы отфильтровать строки DataFrame так, чтобы вес в каратах составлял не менее 0,3."
      ],
      "metadata": {
        "id": "nCePW3gGhPXA"
      }
    },
    {
      "cell_type": "code",
      "source": [
        "di[di['carat']>0.3]"
      ],
      "metadata": {
        "id": "L_QEZwNthPy6",
        "colab": {
          "base_uri": "https://localhost:8080/",
          "height": 424
        },
        "outputId": "c8be1b6f-60d3-4466-e03d-440ebc300e7b"
      },
      "execution_count": 20,
      "outputs": [
        {
          "output_type": "execute_result",
          "data": {
            "text/plain": [
              "       carat        cut color clarity  depth  table  price\n",
              "13      0.31      Ideal     J     SI2   62.2   54.0    344\n",
              "15      0.32    Premium     E      I1   60.9   58.0    345\n",
              "23      0.31  Very Good     J     SI1   59.4   62.0    353\n",
              "24      0.31  Very Good     J     SI1   58.1   62.0    353\n",
              "37      0.31       Good     H     SI1   64.0   54.0    402\n",
              "...      ...        ...   ...     ...    ...    ...    ...\n",
              "53935   0.72      Ideal     D     SI1   60.8   57.0   2757\n",
              "53936   0.72       Good     D     SI1   63.1   55.0   2757\n",
              "53937   0.70  Very Good     D     SI1   62.8   60.0   2757\n",
              "53938   0.86    Premium     H     SI2   61.0   58.0   2757\n",
              "53939   0.75      Ideal     D     SI2   62.2   55.0   2757\n",
              "\n",
              "[49736 rows x 7 columns]"
            ],
            "text/html": [
              "\n",
              "  <div id=\"df-a21e107f-dd9f-4778-a6f2-3064e27e1854\">\n",
              "    <div class=\"colab-df-container\">\n",
              "      <div>\n",
              "<style scoped>\n",
              "    .dataframe tbody tr th:only-of-type {\n",
              "        vertical-align: middle;\n",
              "    }\n",
              "\n",
              "    .dataframe tbody tr th {\n",
              "        vertical-align: top;\n",
              "    }\n",
              "\n",
              "    .dataframe thead th {\n",
              "        text-align: right;\n",
              "    }\n",
              "</style>\n",
              "<table border=\"1\" class=\"dataframe\">\n",
              "  <thead>\n",
              "    <tr style=\"text-align: right;\">\n",
              "      <th></th>\n",
              "      <th>carat</th>\n",
              "      <th>cut</th>\n",
              "      <th>color</th>\n",
              "      <th>clarity</th>\n",
              "      <th>depth</th>\n",
              "      <th>table</th>\n",
              "      <th>price</th>\n",
              "    </tr>\n",
              "  </thead>\n",
              "  <tbody>\n",
              "    <tr>\n",
              "      <th>13</th>\n",
              "      <td>0.31</td>\n",
              "      <td>Ideal</td>\n",
              "      <td>J</td>\n",
              "      <td>SI2</td>\n",
              "      <td>62.2</td>\n",
              "      <td>54.0</td>\n",
              "      <td>344</td>\n",
              "    </tr>\n",
              "    <tr>\n",
              "      <th>15</th>\n",
              "      <td>0.32</td>\n",
              "      <td>Premium</td>\n",
              "      <td>E</td>\n",
              "      <td>I1</td>\n",
              "      <td>60.9</td>\n",
              "      <td>58.0</td>\n",
              "      <td>345</td>\n",
              "    </tr>\n",
              "    <tr>\n",
              "      <th>23</th>\n",
              "      <td>0.31</td>\n",
              "      <td>Very Good</td>\n",
              "      <td>J</td>\n",
              "      <td>SI1</td>\n",
              "      <td>59.4</td>\n",
              "      <td>62.0</td>\n",
              "      <td>353</td>\n",
              "    </tr>\n",
              "    <tr>\n",
              "      <th>24</th>\n",
              "      <td>0.31</td>\n",
              "      <td>Very Good</td>\n",
              "      <td>J</td>\n",
              "      <td>SI1</td>\n",
              "      <td>58.1</td>\n",
              "      <td>62.0</td>\n",
              "      <td>353</td>\n",
              "    </tr>\n",
              "    <tr>\n",
              "      <th>37</th>\n",
              "      <td>0.31</td>\n",
              "      <td>Good</td>\n",
              "      <td>H</td>\n",
              "      <td>SI1</td>\n",
              "      <td>64.0</td>\n",
              "      <td>54.0</td>\n",
              "      <td>402</td>\n",
              "    </tr>\n",
              "    <tr>\n",
              "      <th>...</th>\n",
              "      <td>...</td>\n",
              "      <td>...</td>\n",
              "      <td>...</td>\n",
              "      <td>...</td>\n",
              "      <td>...</td>\n",
              "      <td>...</td>\n",
              "      <td>...</td>\n",
              "    </tr>\n",
              "    <tr>\n",
              "      <th>53935</th>\n",
              "      <td>0.72</td>\n",
              "      <td>Ideal</td>\n",
              "      <td>D</td>\n",
              "      <td>SI1</td>\n",
              "      <td>60.8</td>\n",
              "      <td>57.0</td>\n",
              "      <td>2757</td>\n",
              "    </tr>\n",
              "    <tr>\n",
              "      <th>53936</th>\n",
              "      <td>0.72</td>\n",
              "      <td>Good</td>\n",
              "      <td>D</td>\n",
              "      <td>SI1</td>\n",
              "      <td>63.1</td>\n",
              "      <td>55.0</td>\n",
              "      <td>2757</td>\n",
              "    </tr>\n",
              "    <tr>\n",
              "      <th>53937</th>\n",
              "      <td>0.70</td>\n",
              "      <td>Very Good</td>\n",
              "      <td>D</td>\n",
              "      <td>SI1</td>\n",
              "      <td>62.8</td>\n",
              "      <td>60.0</td>\n",
              "      <td>2757</td>\n",
              "    </tr>\n",
              "    <tr>\n",
              "      <th>53938</th>\n",
              "      <td>0.86</td>\n",
              "      <td>Premium</td>\n",
              "      <td>H</td>\n",
              "      <td>SI2</td>\n",
              "      <td>61.0</td>\n",
              "      <td>58.0</td>\n",
              "      <td>2757</td>\n",
              "    </tr>\n",
              "    <tr>\n",
              "      <th>53939</th>\n",
              "      <td>0.75</td>\n",
              "      <td>Ideal</td>\n",
              "      <td>D</td>\n",
              "      <td>SI2</td>\n",
              "      <td>62.2</td>\n",
              "      <td>55.0</td>\n",
              "      <td>2757</td>\n",
              "    </tr>\n",
              "  </tbody>\n",
              "</table>\n",
              "<p>49736 rows × 7 columns</p>\n",
              "</div>\n",
              "      <button class=\"colab-df-convert\" onclick=\"convertToInteractive('df-a21e107f-dd9f-4778-a6f2-3064e27e1854')\"\n",
              "              title=\"Convert this dataframe to an interactive table.\"\n",
              "              style=\"display:none;\">\n",
              "        \n",
              "  <svg xmlns=\"http://www.w3.org/2000/svg\" height=\"24px\"viewBox=\"0 0 24 24\"\n",
              "       width=\"24px\">\n",
              "    <path d=\"M0 0h24v24H0V0z\" fill=\"none\"/>\n",
              "    <path d=\"M18.56 5.44l.94 2.06.94-2.06 2.06-.94-2.06-.94-.94-2.06-.94 2.06-2.06.94zm-11 1L8.5 8.5l.94-2.06 2.06-.94-2.06-.94L8.5 2.5l-.94 2.06-2.06.94zm10 10l.94 2.06.94-2.06 2.06-.94-2.06-.94-.94-2.06-.94 2.06-2.06.94z\"/><path d=\"M17.41 7.96l-1.37-1.37c-.4-.4-.92-.59-1.43-.59-.52 0-1.04.2-1.43.59L10.3 9.45l-7.72 7.72c-.78.78-.78 2.05 0 2.83L4 21.41c.39.39.9.59 1.41.59.51 0 1.02-.2 1.41-.59l7.78-7.78 2.81-2.81c.8-.78.8-2.07 0-2.86zM5.41 20L4 18.59l7.72-7.72 1.47 1.35L5.41 20z\"/>\n",
              "  </svg>\n",
              "      </button>\n",
              "      \n",
              "  <style>\n",
              "    .colab-df-container {\n",
              "      display:flex;\n",
              "      flex-wrap:wrap;\n",
              "      gap: 12px;\n",
              "    }\n",
              "\n",
              "    .colab-df-convert {\n",
              "      background-color: #E8F0FE;\n",
              "      border: none;\n",
              "      border-radius: 50%;\n",
              "      cursor: pointer;\n",
              "      display: none;\n",
              "      fill: #1967D2;\n",
              "      height: 32px;\n",
              "      padding: 0 0 0 0;\n",
              "      width: 32px;\n",
              "    }\n",
              "\n",
              "    .colab-df-convert:hover {\n",
              "      background-color: #E2EBFA;\n",
              "      box-shadow: 0px 1px 2px rgba(60, 64, 67, 0.3), 0px 1px 3px 1px rgba(60, 64, 67, 0.15);\n",
              "      fill: #174EA6;\n",
              "    }\n",
              "\n",
              "    [theme=dark] .colab-df-convert {\n",
              "      background-color: #3B4455;\n",
              "      fill: #D2E3FC;\n",
              "    }\n",
              "\n",
              "    [theme=dark] .colab-df-convert:hover {\n",
              "      background-color: #434B5C;\n",
              "      box-shadow: 0px 1px 3px 1px rgba(0, 0, 0, 0.15);\n",
              "      filter: drop-shadow(0px 1px 2px rgba(0, 0, 0, 0.3));\n",
              "      fill: #FFFFFF;\n",
              "    }\n",
              "  </style>\n",
              "\n",
              "      <script>\n",
              "        const buttonEl =\n",
              "          document.querySelector('#df-a21e107f-dd9f-4778-a6f2-3064e27e1854 button.colab-df-convert');\n",
              "        buttonEl.style.display =\n",
              "          google.colab.kernel.accessAllowed ? 'block' : 'none';\n",
              "\n",
              "        async function convertToInteractive(key) {\n",
              "          const element = document.querySelector('#df-a21e107f-dd9f-4778-a6f2-3064e27e1854');\n",
              "          const dataTable =\n",
              "            await google.colab.kernel.invokeFunction('convertToInteractive',\n",
              "                                                     [key], {});\n",
              "          if (!dataTable) return;\n",
              "\n",
              "          const docLinkHtml = 'Like what you see? Visit the ' +\n",
              "            '<a target=\"_blank\" href=https://colab.research.google.com/notebooks/data_table.ipynb>data table notebook</a>'\n",
              "            + ' to learn more about interactive tables.';\n",
              "          element.innerHTML = '';\n",
              "          dataTable['output_type'] = 'display_data';\n",
              "          await google.colab.output.renderOutput(dataTable, element);\n",
              "          const docLink = document.createElement('div');\n",
              "          docLink.innerHTML = docLinkHtml;\n",
              "          element.appendChild(docLink);\n",
              "        }\n",
              "      </script>\n",
              "    </div>\n",
              "  </div>\n",
              "  "
            ]
          },
          "metadata": {},
          "execution_count": 20
        }
      ]
    },
    {
      "cell_type": "markdown",
      "source": [
        "17. Напишите программу Pandas, чтобы найти детали бриллиантов, где длина> 5, ширина> 5 и глубина> 5"
      ],
      "metadata": {
        "id": "ls4p7IYZhTBH"
      }
    },
    {
      "cell_type": "code",
      "source": [
        "di = pd.read_csv('https://raw.githubusercontent.com/mwaskom/seaborn-data/master/diamonds.csv')\n",
        "print(di[(di['x'] > 5) & (di['y'] > 5) & (di['z'] > 5)])"
      ],
      "metadata": {
        "id": "ifpiZ4g7hVLw",
        "colab": {
          "base_uri": "https://localhost:8080/"
        },
        "outputId": "6754dc69-ea8d-46d5-8f71-7e141c544231"
      },
      "execution_count": 31,
      "outputs": [
        {
          "output_type": "stream",
          "name": "stdout",
          "text": [
            "       carat        cut color clarity  depth  table  price     x      y      z\n",
            "11778   1.83       Fair     J      I1   70.0   58.0   5083  7.34   7.28   5.12\n",
            "13002   2.14       Fair     J      I1   69.4   57.0   5405  7.74   7.70   5.36\n",
            "13118   2.15       Fair     J      I1   65.5   57.0   5430  8.01   7.95   5.23\n",
            "13562   1.96       Fair     F      I1   66.6   60.0   5554  7.59   7.56   5.04\n",
            "13757   2.22       Fair     J      I1   66.7   56.0   5607  8.04   8.02   5.36\n",
            "...      ...        ...   ...     ...    ...    ...    ...   ...    ...    ...\n",
            "27748   2.00  Very Good     G     SI1   63.5   56.0  18818  7.90   7.97   5.04\n",
            "27749   2.29    Premium     I     VS2   60.8   60.0  18823  8.50   8.47   5.16\n",
            "48410   0.51  Very Good     E     VS1   61.8   54.7   1970  5.12   5.15  31.80\n",
            "49189   0.51      Ideal     E     VS1   61.8   55.0   2075  5.15  31.80   5.12\n",
            "49905   0.50  Very Good     G    VVS1   63.7   58.0   2180  5.01   5.04   5.06\n",
            "\n",
            "[1457 rows x 10 columns]\n"
          ]
        }
      ]
    },
    {
      "cell_type": "markdown",
      "source": [
        "18. Напишите программу Pandas, чтобы найти бриллианты премиум-класса или идеальные."
      ],
      "metadata": {
        "id": "VJkeb0-ZhVSx"
      }
    },
    {
      "cell_type": "code",
      "source": [
        "di = pd.read_csv('https://raw.githubusercontent.com/mwaskom/seaborn-data/master/diamonds.csv')\n",
        "print(di[(di['cut'] == 'Premium') | (di['cut'] == 'Ideal')])"
      ],
      "metadata": {
        "id": "JI3TiAYbhXlc",
        "colab": {
          "base_uri": "https://localhost:8080/"
        },
        "outputId": "2e84ee14-5ba2-4148-b703-6abed9928317"
      },
      "execution_count": 33,
      "outputs": [
        {
          "output_type": "stream",
          "name": "stdout",
          "text": [
            "       carat      cut color clarity  depth  table  price     x     y     z\n",
            "0       0.23    Ideal     E     SI2   61.5   55.0    326  3.95  3.98  2.43\n",
            "1       0.21  Premium     E     SI1   59.8   61.0    326  3.89  3.84  2.31\n",
            "3       0.29  Premium     I     VS2   62.4   58.0    334  4.20  4.23  2.63\n",
            "11      0.23    Ideal     J     VS1   62.8   56.0    340  3.93  3.90  2.46\n",
            "12      0.22  Premium     F     SI1   60.4   61.0    342  3.88  3.84  2.33\n",
            "...      ...      ...   ...     ...    ...    ...    ...   ...   ...   ...\n",
            "53931   0.71  Premium     F     SI1   59.8   62.0   2756  5.74  5.73  3.43\n",
            "53934   0.72  Premium     D     SI1   62.7   59.0   2757  5.69  5.73  3.58\n",
            "53935   0.72    Ideal     D     SI1   60.8   57.0   2757  5.75  5.76  3.50\n",
            "53938   0.86  Premium     H     SI2   61.0   58.0   2757  6.15  6.12  3.74\n",
            "53939   0.75    Ideal     D     SI2   62.2   55.0   2757  5.83  5.87  3.64\n",
            "\n",
            "[35342 rows x 10 columns]\n"
          ]
        }
      ]
    },
    {
      "cell_type": "markdown",
      "source": [
        "19. Напишите программу Pandas, чтобы найти бриллианты, которые имеют Ярмарку, Хороший или Премиум"
      ],
      "metadata": {
        "id": "Qwej4jtqhXsB"
      }
    },
    {
      "cell_type": "code",
      "source": [
        "di = pd.read_csv('https://raw.githubusercontent.com/mwaskom/seaborn-data/master/diamonds.csv')\n",
        "print(di[(di['cut'] == 'Premium') | (di['cut'] == 'Fair') | (di['cut'] == 'Good')])"
      ],
      "metadata": {
        "id": "6qwXD9eChZ6n",
        "colab": {
          "base_uri": "https://localhost:8080/"
        },
        "outputId": "0cd13d2d-3754-4366-c5de-b878757a0058"
      },
      "execution_count": 34,
      "outputs": [
        {
          "output_type": "stream",
          "name": "stdout",
          "text": [
            "       carat      cut color clarity  depth  table  price     x     y     z\n",
            "1       0.21  Premium     E     SI1   59.8   61.0    326  3.89  3.84  2.31\n",
            "2       0.23     Good     E     VS1   56.9   65.0    327  4.05  4.07  2.31\n",
            "3       0.29  Premium     I     VS2   62.4   58.0    334  4.20  4.23  2.63\n",
            "4       0.31     Good     J     SI2   63.3   58.0    335  4.34  4.35  2.75\n",
            "8       0.22     Fair     E     VS2   65.1   61.0    337  3.87  3.78  2.49\n",
            "...      ...      ...   ...     ...    ...    ...    ...   ...   ...   ...\n",
            "53930   0.71  Premium     E     SI1   60.5   55.0   2756  5.79  5.74  3.49\n",
            "53931   0.71  Premium     F     SI1   59.8   62.0   2756  5.74  5.73  3.43\n",
            "53934   0.72  Premium     D     SI1   62.7   59.0   2757  5.69  5.73  3.58\n",
            "53936   0.72     Good     D     SI1   63.1   55.0   2757  5.69  5.75  3.61\n",
            "53938   0.86  Premium     H     SI2   61.0   58.0   2757  6.15  6.12  3.74\n",
            "\n",
            "[20307 rows x 10 columns]\n"
          ]
        }
      ]
    },
    {
      "cell_type": "markdown",
      "source": [
        "20. Напишите программу Pandas для отображения всех меток столбцов бриллиантов DataFrame.\n",
        "\n"
      ],
      "metadata": {
        "id": "kUIxCpWEhaBr"
      }
    },
    {
      "cell_type": "code",
      "source": [],
      "metadata": {
        "id": "H5pKK-kvheLb"
      },
      "execution_count": null,
      "outputs": []
    },
    {
      "cell_type": "markdown",
      "source": [
        "21. Напишите программу Pandas, которая будет читать только подмножество из 3 строк из DataFrame с бриллиантами."
      ],
      "metadata": {
        "id": "cCerFZjXheT9"
      }
    },
    {
      "cell_type": "code",
      "source": [],
      "metadata": {
        "id": "R4yLsbzghgi_"
      },
      "execution_count": null,
      "outputs": []
    },
    {
      "cell_type": "markdown",
      "source": [
        "22. Напишите программу Pandas для перебора бриллиантов в DataFrame. "
      ],
      "metadata": {
        "id": "scSHRPmrhgqi"
      }
    },
    {
      "cell_type": "code",
      "source": [],
      "metadata": {
        "id": "UOGWJiwvhi97"
      },
      "execution_count": null,
      "outputs": []
    },
    {
      "cell_type": "markdown",
      "source": [
        "23. Напишите программу Pandas для удаления всех нечисловых столбцов из бриллиантов DataFrame"
      ],
      "metadata": {
        "id": "LW6o9bb5hjF2"
      }
    },
    {
      "cell_type": "code",
      "source": [],
      "metadata": {
        "id": "FxUsWmXHhlVO"
      },
      "execution_count": null,
      "outputs": []
    },
    {
      "cell_type": "markdown",
      "source": [
        "24. Напишите программу Pandas, которая будет включать только числовые столбцы в DataFrame с бриллиантами."
      ],
      "metadata": {
        "id": "WkaHFER-hldx"
      }
    },
    {
      "cell_type": "code",
      "source": [],
      "metadata": {
        "id": "53JLdjMPhoGC"
      },
      "execution_count": null,
      "outputs": []
    },
    {
      "cell_type": "markdown",
      "source": [
        "25. Напишите программу Pandas, чтобы передать список типов данных, чтобы описать только определенные типы алмазов DataFrame. "
      ],
      "metadata": {
        "id": "P1WRgmFphoMT"
      }
    },
    {
      "cell_type": "code",
      "source": [],
      "metadata": {
        "id": "JDvNhit9hqYs"
      },
      "execution_count": null,
      "outputs": []
    },
    {
      "cell_type": "markdown",
      "source": [
        "26. Напишите программу Pandas для расчета среднего значения каждого числового столбца алмазов в DataFrame."
      ],
      "metadata": {
        "id": "0rQ1LTc2hqhg"
      }
    },
    {
      "cell_type": "code",
      "source": [],
      "metadata": {
        "id": "nDMPj8gxhtF_"
      },
      "execution_count": null,
      "outputs": []
    },
    {
      "cell_type": "markdown",
      "source": [
        "27. Напишите программу Pandas для расчета среднего значения каждого ряда алмазов в DataFrame."
      ],
      "metadata": {
        "id": "zWESEyrrhtMw"
      }
    },
    {
      "cell_type": "code",
      "source": [],
      "metadata": {
        "id": "DoPiyYJ7hvcd"
      },
      "execution_count": null,
      "outputs": []
    },
    {
      "cell_type": "markdown",
      "source": [
        "28. Напишите программу Pandas для расчета среднего значения цены для каждого бриллианта DataFrame. "
      ],
      "metadata": {
        "id": "XHhGs4oghvje"
      }
    },
    {
      "cell_type": "code",
      "source": [],
      "metadata": {
        "id": "RpO0vSY3h0sH"
      },
      "execution_count": null,
      "outputs": []
    },
    {
      "cell_type": "markdown",
      "source": [
        "29. Напишите программу Pandas для расчета количества, минимальной, максимальной цены на каждый бриллиант DataFrame."
      ],
      "metadata": {
        "id": "qRAQDpVMh0zv"
      }
    },
    {
      "cell_type": "code",
      "source": [],
      "metadata": {
        "id": "CHiwlkOHh3Ki"
      },
      "execution_count": null,
      "outputs": []
    },
    {
      "cell_type": "markdown",
      "source": [
        "30. Напишите программу Pandas для создания линейного линейчатого графика бриллианта DataFrame."
      ],
      "metadata": {
        "id": "91OOfGBGh3cP"
      }
    },
    {
      "cell_type": "code",
      "source": [],
      "metadata": {
        "id": "VGXwNoV8h5hF"
      },
      "execution_count": null,
      "outputs": []
    },
    {
      "cell_type": "markdown",
      "source": [
        "31. Напишите программу Pandas, чтобы подсчитать, сколько раз встречается каждое значение в серии ограненных бриллиантов DataFrame."
      ],
      "metadata": {
        "id": "TEkCRHGnh5ny"
      }
    },
    {
      "cell_type": "code",
      "source": [],
      "metadata": {
        "id": "E_CLH3-ah8Mn"
      },
      "execution_count": null,
      "outputs": []
    },
    {
      "cell_type": "markdown",
      "source": [
        "32. Напишите программу Pandas для отображения процентов каждого значения серии огранки, встречающейся в бриллиантах в DataFrame."
      ],
      "metadata": {
        "id": "Fm1ZMMnkh8SS"
      }
    },
    {
      "cell_type": "code",
      "source": [],
      "metadata": {
        "id": "4iiMmuSFh-Pc"
      },
      "execution_count": null,
      "outputs": []
    },
    {
      "cell_type": "markdown",
      "source": [
        "33. Напишите программу Pandas для отображения уникальных значений в бриллиантах ограненной серии DataFrame."
      ],
      "metadata": {
        "id": "b4REa70Dh-Vg"
      }
    },
    {
      "cell_type": "code",
      "source": [],
      "metadata": {
        "id": "B-8x7OfAiBtr"
      },
      "execution_count": null,
      "outputs": []
    },
    {
      "cell_type": "markdown",
      "source": [
        "34. Напишите программу Pandas для подсчета количества уникальных значений в ограненной серии бриллиантов DataFrame."
      ],
      "metadata": {
        "id": "ghBFBBdQiB7E"
      }
    },
    {
      "cell_type": "code",
      "source": [],
      "metadata": {
        "id": "mBLKvpG2iEF8"
      },
      "execution_count": null,
      "outputs": []
    },
    {
      "cell_type": "markdown",
      "source": [
        "35. Напишите программу Pandas для расчета кросс-табуляции двух серий в бриллиантах DataFrame."
      ],
      "metadata": {
        "id": "0LBsAg5biEM3"
      }
    },
    {
      "cell_type": "code",
      "source": [],
      "metadata": {
        "id": "Fc8ejpggiGxp"
      },
      "execution_count": null,
      "outputs": []
    },
    {
      "cell_type": "markdown",
      "source": [
        "36. Напишите программу Pandas для расчета различных сводных статистических данных о бриллиантах серии огранки DataFrame."
      ],
      "metadata": {
        "id": "aGsHB8yliG5g"
      }
    },
    {
      "cell_type": "code",
      "source": [],
      "metadata": {
        "id": "KevnbHVSiKYn"
      },
      "execution_count": null,
      "outputs": []
    },
    {
      "cell_type": "markdown",
      "source": [
        "37. Напишите программу Pandas для создания гистограммы из серии «Карат» (распределение числовой переменной) бриллиантов DataFrame. "
      ],
      "metadata": {
        "id": "KpVj7tNoiKff"
      }
    },
    {
      "cell_type": "code",
      "source": [],
      "metadata": {
        "id": "oVZmbnweiOiP"
      },
      "execution_count": null,
      "outputs": []
    },
    {
      "cell_type": "markdown",
      "source": [
        "38. Напишите программу Pandas для создания гистограммы «value_counts» для «ограненной» серии бриллиантов DataFrame."
      ],
      "metadata": {
        "id": "43AIU1-uiOoA"
      }
    },
    {
      "cell_type": "code",
      "source": [],
      "metadata": {
        "id": "uLu6ii3EiRLo"
      },
      "execution_count": null,
      "outputs": []
    },
    {
      "cell_type": "markdown",
      "source": [
        "39. Напишите программу Pandas для создания DataFrame с логическими значениями (True, если отсутствует, False, если не отсутствует) из алмазов DataFrame."
      ],
      "metadata": {
        "id": "qfAq7qcIiRR8"
      }
    },
    {
      "cell_type": "code",
      "source": [],
      "metadata": {
        "id": "mlLf2q87iTsh"
      },
      "execution_count": null,
      "outputs": []
    },
    {
      "cell_type": "markdown",
      "source": [
        "40. Напишите программу Pandas для подсчета количества пропущенных значений в каждой серии бриллиантов DataFrame. "
      ],
      "metadata": {
        "id": "niGRF3KgiTxr"
      }
    },
    {
      "cell_type": "code",
      "source": [],
      "metadata": {
        "id": "TKanSOafiWBE"
      },
      "execution_count": null,
      "outputs": []
    },
    {
      "cell_type": "markdown",
      "source": [
        "41. Напишите программу Pandas, чтобы проверить количество строк и столбцов и отбросьте эти строки, если в строке DataFrame «строки» отсутствуют значения «any»"
      ],
      "metadata": {
        "id": "DXA_fLvBiWIc"
      }
    },
    {
      "cell_type": "code",
      "source": [],
      "metadata": {
        "id": "iVy-xpTviZTD"
      },
      "execution_count": null,
      "outputs": []
    },
    {
      "cell_type": "markdown",
      "source": [
        "42. Напишите программу Pandas для удаления строки, если в одном или нескольких значениях в строке отсутствуют алмазы DataFrame в двух конкретных столбцах."
      ],
      "metadata": {
        "id": "BZNLRw7yiZaU"
      }
    },
    {
      "cell_type": "code",
      "source": [],
      "metadata": {
        "id": "I3C-3EMIibjz"
      },
      "execution_count": null,
      "outputs": []
    },
    {
      "cell_type": "markdown",
      "source": [
        "43. Напишите программу Pandas, чтобы установить существующий столбец в качестве индекса алмазов DataFrame."
      ],
      "metadata": {
        "id": "kfEPjVR4ibqs"
      }
    },
    {
      "cell_type": "code",
      "source": [],
      "metadata": {
        "id": "rOZDwpvMidfW"
      },
      "execution_count": null,
      "outputs": []
    },
    {
      "cell_type": "markdown",
      "source": [
        "44. Напишите программу Pandas, чтобы установить существующий столбец в качестве индекса бриллианта DataFrame, восстановить имя индекса и переместить индекс обратно в столбец."
      ],
      "metadata": {
        "id": "x4d4upXFidk5"
      }
    },
    {
      "cell_type": "code",
      "source": [],
      "metadata": {
        "id": "Q5R3ndvzif3I"
      },
      "execution_count": null,
      "outputs": []
    },
    {
      "cell_type": "markdown",
      "source": [
        "45. Напишите программу Pandas для доступа к указанному индексу Series и значениям Series для алмазов DataFrame. "
      ],
      "metadata": {
        "id": "IJjb3Nyoif87"
      }
    },
    {
      "cell_type": "code",
      "source": [],
      "metadata": {
        "id": "XFFoMtQCiiCx"
      },
      "execution_count": null,
      "outputs": []
    },
    {
      "cell_type": "markdown",
      "source": [
        "46. Напишите программу Pandas для сортировки Серии по ее значениям и индексу алмазов в DataFrame. "
      ],
      "metadata": {
        "id": "vphsbev9iiIq"
      }
    },
    {
      "cell_type": "code",
      "source": [],
      "metadata": {
        "id": "E8TYXetNikeu"
      },
      "execution_count": null,
      "outputs": []
    },
    {
      "cell_type": "markdown",
      "source": [
        "47. Напишите программу Pandas для расчета умножения длины, ширины и глубины на каждый бриллиант DataFrame. "
      ],
      "metadata": {
        "id": "Y_1IiY3IikkR"
      }
    },
    {
      "cell_type": "code",
      "source": [],
      "metadata": {
        "id": "QS3Qc5VkimxH"
      },
      "execution_count": null,
      "outputs": []
    },
    {
      "cell_type": "markdown",
      "source": [
        "48. Напишите программу Pandas для объединения DataFrame с бриллиантами в «цветную» серию"
      ],
      "metadata": {
        "id": "H39-ka3oim5J"
      }
    },
    {
      "cell_type": "code",
      "source": [],
      "metadata": {
        "id": "C07sGpEAipwp"
      },
      "execution_count": null,
      "outputs": []
    },
    {
      "cell_type": "markdown",
      "source": [
        "49. Напишите программу Pandas для чтения указанных строк и всех столбцов алмазов DataFrame."
      ],
      "metadata": {
        "id": "is-Uod6uip6z"
      }
    },
    {
      "cell_type": "code",
      "source": [],
      "metadata": {
        "id": "XLw29aPUis2D"
      },
      "execution_count": null,
      "outputs": []
    },
    {
      "cell_type": "markdown",
      "source": [
        "50. Напишите программу Pandas для чтения строк 0, 5, 7 и всех столбцов алмазов в DataFrame."
      ],
      "metadata": {
        "id": "SSWf4Eqkis9k"
      }
    },
    {
      "cell_type": "code",
      "source": [],
      "metadata": {
        "id": "HWK5BXkSiu0W"
      },
      "execution_count": null,
      "outputs": []
    },
    {
      "cell_type": "markdown",
      "source": [
        "51. Напишите программу Pandas для чтения строк со 2 по 5 и всех столбцов алмазов в DataFrame."
      ],
      "metadata": {
        "id": "iczT26pmiu7X"
      }
    },
    {
      "cell_type": "code",
      "source": [],
      "metadata": {
        "id": "OSZXfJr-i0ol"
      },
      "execution_count": null,
      "outputs": []
    },
    {
      "cell_type": "markdown",
      "source": [
        "52. Напишите программу Pandas для чтения строк с 0 по 2 (включительно), столбцов «цвет» и «цена» алмазов в DataFrame. "
      ],
      "metadata": {
        "id": "mcw923r1i0zB"
      }
    },
    {
      "cell_type": "code",
      "source": [],
      "metadata": {
        "id": "V-QIXJHoi29n"
      },
      "execution_count": null,
      "outputs": []
    },
    {
      "cell_type": "markdown",
      "source": [
        "53. Напишите программу Pandas для чтения строк с 0 по 2 (включительно), столбцы «цвет» - «цена» (включительно) бриллиантов DataFrame. "
      ],
      "metadata": {
        "id": "oO2hb2uyi3RW"
      }
    },
    {
      "cell_type": "code",
      "source": [],
      "metadata": {
        "id": "9VBtCTffi5eW"
      },
      "execution_count": null,
      "outputs": []
    },
    {
      "cell_type": "markdown",
      "source": [
        "54. Напишите программу Pandas для чтения строк, в которых «огранка» - это «Премиум», колонка «цвет» алмазов DataFrame."
      ],
      "metadata": {
        "id": "WLFpQjkci5mR"
      }
    },
    {
      "cell_type": "code",
      "source": [],
      "metadata": {
        "id": "DGRcChi8i75j"
      },
      "execution_count": null,
      "outputs": []
    },
    {
      "cell_type": "markdown",
      "source": [
        "55. Напишите программу Pandas для чтения строк в позициях 0 и 1, столбцов в позициях 0 и 3 ромбов DataFrame."
      ],
      "metadata": {
        "id": "rRziQgewi8AG"
      }
    },
    {
      "cell_type": "code",
      "source": [],
      "metadata": {
        "id": "jMlVNAsNi-wo"
      },
      "execution_count": null,
      "outputs": []
    },
    {
      "cell_type": "markdown",
      "source": [
        "56. Напишите программу Pandas для чтения строк в позициях с 0 по 4, столбцов в позициях с 1 по 4 в ромбах DataFrame. "
      ],
      "metadata": {
        "id": "wJTWYo52i-3F"
      }
    },
    {
      "cell_type": "code",
      "source": [],
      "metadata": {
        "id": "Nz9z0mHijA0t"
      },
      "execution_count": null,
      "outputs": []
    },
    {
      "cell_type": "markdown",
      "source": [
        "57. Напишите программу Pandas для чтения строк в позициях от 0 до 4 (исключая) и всех столбцов алмазов в DataFrame. "
      ],
      "metadata": {
        "id": "yRoDLTIhjA7J"
      }
    },
    {
      "cell_type": "code",
      "source": [],
      "metadata": {
        "id": "gbfHbGb-jC1Z"
      },
      "execution_count": null,
      "outputs": []
    },
    {
      "cell_type": "markdown",
      "source": [
        "58. Напишите программу Pandas для чтения строк с 2 по 5 (включительно), столбцов в позициях с 0 по 2 (без учета) бриллиантов в DataFrame."
      ],
      "metadata": {
        "id": "bKvAGYTQjC7U"
      }
    },
    {
      "cell_type": "code",
      "source": [],
      "metadata": {
        "id": "ybUA0ZJAjFG7"
      },
      "execution_count": null,
      "outputs": []
    },
    {
      "cell_type": "markdown",
      "source": [
        "59. Напишите программу Pandas для печати краткого описания бриллиантов DataFrame. "
      ],
      "metadata": {
        "id": "dbh_CBvyjFgF"
      }
    },
    {
      "cell_type": "code",
      "source": [],
      "metadata": {
        "id": "UcBJGY_AjHjx"
      },
      "execution_count": null,
      "outputs": []
    },
    {
      "cell_type": "markdown",
      "source": [
        "60. Напишите программу Pandas, чтобы получить истинное использование памяти бриллиантами DataFrame"
      ],
      "metadata": {
        "id": "8HDfitgkjHu0"
      }
    },
    {
      "cell_type": "code",
      "source": [],
      "metadata": {
        "id": "6S9_e305jJyB"
      },
      "execution_count": null,
      "outputs": []
    },
    {
      "cell_type": "markdown",
      "source": [
        "61. Напишите программу Pandas для расчета использования памяти для каждой серии (в байтах) бриллиантов DataFrame. "
      ],
      "metadata": {
        "id": "MWITCoPvjJ4C"
      }
    },
    {
      "cell_type": "code",
      "source": [],
      "metadata": {
        "id": "QVBNXUPSjL-I"
      },
      "execution_count": null,
      "outputs": []
    },
    {
      "cell_type": "markdown",
      "source": [
        "62. Напишите программу Pandas для случайной выборки строк из бриллиантов в DataFrame."
      ],
      "metadata": {
        "id": "AWvBUhR0jMHj"
      }
    },
    {
      "cell_type": "code",
      "source": [],
      "metadata": {
        "id": "Tfs0bDsWjO3n"
      },
      "execution_count": null,
      "outputs": []
    },
    {
      "cell_type": "markdown",
      "source": [
        "63. Напишите программу Pandas, чтобы получить образец 75% строк в DataFrame с бриллиантами без замены и сохранить оставшиеся 25% строк в другом DataFrame."
      ],
      "metadata": {
        "id": "SKEuZ67GjPAC"
      }
    },
    {
      "cell_type": "code",
      "source": [],
      "metadata": {
        "id": "Xj_pwgn7jRQz"
      },
      "execution_count": null,
      "outputs": []
    },
    {
      "cell_type": "markdown",
      "source": [
        "64. Напишите программу Pandas для чтения бриллиантов DataFrame и определения дублирующего цвета. \n",
        "Примечание: функция duplicated () возвращает логическую серию, обозначающую дублирующиеся строки, опционально только с учетом определенных столбцов."
      ],
      "metadata": {
        "id": "Js0mGTMKjRWd"
      }
    },
    {
      "cell_type": "code",
      "source": [],
      "metadata": {
        "id": "zZtqVOdrjV2n"
      },
      "execution_count": null,
      "outputs": []
    },
    {
      "cell_type": "markdown",
      "source": [
        "65. Напишите программу Pandas для подсчета повторяющихся рядов алмазов в DataFrame."
      ],
      "metadata": {
        "id": "sqnmoFcujV97"
      }
    },
    {
      "cell_type": "code",
      "source": [],
      "metadata": {
        "id": "np0afrpNjZaE"
      },
      "execution_count": null,
      "outputs": []
    }
  ]
}